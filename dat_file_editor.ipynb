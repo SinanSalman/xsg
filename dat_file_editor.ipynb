{
 "cells": [
  {
   "cell_type": "code",
   "execution_count": null,
   "metadata": {
    "collapsed": true
   },
   "outputs": [],
   "source": [
    "import os\n",
    "import pickle\n",
    "from xsg import game, stations\n",
    "import inspect, re\n",
    "import collections\n",
    "from pydoc import locate\n",
    "\n",
    "filename = './instance/xsg.dat'\n",
    "line_limit = 50\n",
    "tab = '- '\n",
    "GAMES = {}\n",
    "\n",
    "def limit_str(S):\n",
    "    x=str(S)\n",
    "    l=len(x)\n",
    "    if l > line_limit:\n",
    "        return (x[:line_limit-3]+'...')\n",
    "    else:\n",
    "        return x\n",
    "    \n",
    "def save_games_state():\n",
    "    with open(filename,'wb') as f:\n",
    "        pickle.dump(GAMES,f)\n",
    "\n",
    "def load_games_state():\n",
    "    if os.path.isfile(filename):\n",
    "        with open(filename,'rb') as f:\n",
    "            GAMES.clear()\n",
    "            GAMES.update(pickle.load(f))\n",
    "\n",
    "def list_items(k,v,l=0):\n",
    "    if isinstance(v, (str, tuple, int, float)):\n",
    "        print (tab*l + k + ': ' + limit_str(v))\n",
    "    elif isinstance(v, list):\n",
    "        if len(v)>0:\n",
    "            if isinstance(v[0],(stations.Demand,stations.Station)):\n",
    "                if k == 'customers':\n",
    "                    print (tab*l + k + ': ' + limit_str([x.station_name for x in v]))\n",
    "                elif k == 'suppliers':\n",
    "                    print (tab*l + k + ': ' + limit_str([x.station_name for x in v]))\n",
    "            else:\n",
    "                print (tab*l + k + ': ' + limit_str(v))\n",
    "        else:\n",
    "            print (tab*l + k + ': ' + limit_str(v))\n",
    "    elif isinstance(v, (collections.deque,set)):\n",
    "        print (tab*l + k + ': ' + limit_str(list(v)))\n",
    "    elif isinstance(v, (game.Game,stations.Demand,stations.Station)):\n",
    "        if k == 'game':  # avoid circular ref\n",
    "            print (tab*l + k + ': ' + limit_str(v.team_name))\n",
    "        else:\n",
    "            print (tab*l + k + ':')\n",
    "            for x in v.__dict__.keys():\n",
    "                list_items(x,getattr(v,x),l+1)\n",
    "    elif isinstance(v, dict):\n",
    "        print (tab*l + k + ':')\n",
    "        for k1,v1 in v.items():\n",
    "            list_items(k1,v1,l+1)\n",
    "    else:\n",
    "        print ('*'*80+'\\ncouldn\\'t handle:',k,limit_str(v),str(type(v))+'\\n'+'*'*80)\n",
    "        \n",
    "def rename_attribute(name,var,parent,name_from,name_to,var_type,parent_type,test=True):\n",
    "    if name==name_from and isinstance(var,var_type) and isinstance(parent,parent_type):\n",
    "        if isinstance(parent, (game.Game,stations.Demand,stations.Station)):\n",
    "            if not test:\n",
    "                setattr(parent,name_to,var)\n",
    "                delattr(parent,name_from)\n",
    "            else:\n",
    "                print ('***the below is a test only with no impact to the data ***')\n",
    "            if isinstance(parent, (game.Game)):\n",
    "                print ('renamed ' + name + ' to ' + name_to + ' in ' + str(parent.team_name))\n",
    "            elif isinstance(parent, (stations.Demand,stations.Station)):\n",
    "                print ('renamed ' + name + ' to ' + name_to + ' in ' + str(parent.game.team_name) + '.' + str(parent.station_name))\n",
    "        elif isinstance(parent, dict):\n",
    "            if not test:\n",
    "                parent[name_to]=var\n",
    "                del parent[name_from]\n",
    "            else:\n",
    "                print ('***the below is a test only with no impact to the data ***')\n",
    "            print ('renamed ' + name + ' to ' + name_to + ' in DICT >>' + str(parent))\n",
    "        else:\n",
    "            print ('couldn\\t rename variable w/ parent of type: ' + str(type(parent)))\n",
    "\n",
    "    if isinstance(var, (game.Game,stations.Demand,stations.Station)):\n",
    "        if name == 'game':  # avoid circular ref\n",
    "            pass\n",
    "        else:\n",
    "            for x in list(var.__dict__.keys()):\n",
    "                rename_attribute(x,getattr(var,x),var,name_from,name_to,var_type,parent_type,test=test)\n",
    "    elif isinstance(var, dict):\n",
    "        for k,v in var.items():\n",
    "            rename_attribute(k,v,var,name_from,name_to,var_type,parent_type,test=test)\n",
    "    elif isinstance(var,(list, str, tuple, int, float, collections.deque, set)):\n",
    "        pass\n",
    "    else:\n",
    "        print ('*'*80+'\\ncouldn\\'t handle:',name,limit_str(var),str(type(var))+'\\n'+'*'*80)\n",
    "        \n",
    "def add_attribute(obj_name,obj_val,parent_type,attribute_name,attribute_default_value,test=True):\n",
    "    if isinstance(obj_val,parent_type):\n",
    "        if isinstance(obj_val, (game.Game,stations.Demand,stations.Station)):\n",
    "            if not test:\n",
    "                setattr(obj_val,attribute_name,attribute_default_value)\n",
    "            else:\n",
    "                print ('***the below is a test only with no impact to the data ***')\n",
    "            if isinstance(obj_val, (game.Game)):\n",
    "                print ('added ' + attribute_name + ' = ' + str(attribute_default_value) + ' in ' + str(obj_val.team_name))\n",
    "            elif isinstance(obj_val, (stations.Demand,stations.Station)):\n",
    "                print ('added ' + attribute_name + ' = ' + str(attribute_default_value) + ' in ' + str(obj_val.station_name))\n",
    "        elif isinstance(obj_val, dict):\n",
    "            if not test:\n",
    "                obj_val[attribute_name]=attribute_default_value\n",
    "            else:\n",
    "                print ('***the below is a test only with no impact to the data ***')\n",
    "            print ('added ' + attribute_name + ' = ' + str(attribute_default_value) + ' in DICT >>' + obj_name)\n",
    "        else:\n",
    "            print ('couldn\\t rename variable w/ parent of type: ' + str(type(obj_val)))\n",
    "\n",
    "    if isinstance(obj_val, (game.Game,stations.Demand,stations.Station)):\n",
    "        for x in list(obj_val.__dict__.keys()):\n",
    "            if x != 'game':  # avoid circular ref\n",
    "                add_attribute(x,getattr(obj_val,x),parent_type,attribute_name,attribute_default_value,test=test)\n",
    "    elif isinstance(obj_val, dict):\n",
    "        for k,v in obj_val.items():\n",
    "            add_attribute(k,v,parent_type,attribute_name,attribute_default_value,test=test)\n",
    "    elif isinstance(obj_val,(list, str, tuple, int, float, collections.deque, set)):\n",
    "        pass\n",
    "    else:\n",
    "        print ('*'*80+'\\ncouldn\\'t handle:',obj_name,limit_str(obj_val),str(type(obj_val))+'\\n'+'*'*80) "
   ]
  },
  {
   "cell_type": "code",
   "execution_count": null,
   "metadata": {
    "collapsed": true
   },
   "outputs": [],
   "source": [
    "load_games_state()"
   ]
  },
  {
   "cell_type": "code",
   "execution_count": null,
   "metadata": {
    "scrolled": false
   },
   "outputs": [],
   "source": [
    "# list_items('WSG',GAMES['WSG'])\n",
    "list_items('GAMES',GAMES)"
   ]
  },
  {
   "cell_type": "code",
   "execution_count": 6,
   "metadata": {},
   "outputs": [
    {
     "name": "stdout",
     "output_type": "stream",
     "text": [
      "renamed timer to turn_start_time in 4_auto_and_1_player\n",
      "renamed timer to turn_start_time in OSG-362-d\n",
      "renamed timer to turn_start_time in OSG_3\n",
      "renamed timer to turn_start_time in one_station\n",
      "renamed timer to turn_start_time in OSG_5\n",
      "renamed timer to turn_start_time in OSG_0\n",
      "renamed timer to turn_start_time in OSG-362-e\n",
      "renamed timer to turn_start_time in WSG\n",
      "renamed timer to turn_start_time in OSG-362-c\n",
      "renamed timer to turn_start_time in OSG_4\n",
      "renamed timer to turn_start_time in OSG-362-a\n",
      "renamed timer to turn_start_time in OSG_test\n",
      "renamed timer to turn_start_time in root_beer\n",
      "renamed timer to turn_start_time in OSG-362-b\n",
      "renamed timer to turn_start_time in BeerGame\n"
     ]
    }
   ],
   "source": [
    "rename_attribute('GAMES',GAMES,game.Game,'timer','turn_start_time',int,game.Game,test=False)"
   ]
  },
  {
   "cell_type": "code",
   "execution_count": 8,
   "metadata": {},
   "outputs": [
    {
     "name": "stdout",
     "output_type": "stream",
     "text": [
      "added turn_time = 90 in 4_auto_and_1_player\n",
      "added turn_time = 90 in OSG-362-d\n",
      "added turn_time = 90 in OSG_3\n",
      "added turn_time = 90 in one_station\n",
      "added turn_time = 90 in OSG_5\n",
      "added turn_time = 90 in OSG_0\n",
      "added turn_time = 90 in OSG-362-e\n",
      "added turn_time = 90 in WSG\n",
      "added turn_time = 90 in OSG-362-c\n",
      "added turn_time = 90 in OSG_4\n",
      "added turn_time = 90 in OSG-362-a\n",
      "added turn_time = 90 in OSG_test\n",
      "added turn_time = 90 in root_beer\n",
      "added turn_time = 90 in OSG-362-b\n",
      "added turn_time = 90 in BeerGame\n"
     ]
    }
   ],
   "source": [
    "import time\n",
    "# add_attribute('GAMES',GAMES,game.Game,'created',time.time(),test=False)\n",
    "# add_attribute('GAMES',GAMES,game.Game,'expiry',8760,test=False)\n",
    "add_attribute('GAMES',GAMES,game.Game,'turn_time',90,test=False)"
   ]
  },
  {
   "cell_type": "code",
   "execution_count": 9,
   "metadata": {
    "collapsed": true
   },
   "outputs": [],
   "source": [
    "save_games_state()"
   ]
  },
  {
   "cell_type": "code",
   "execution_count": null,
   "metadata": {
    "collapsed": true
   },
   "outputs": [],
   "source": []
  }
 ],
 "metadata": {
  "anaconda-cloud": {},
  "kernelspec": {
   "display_name": "Python [conda root]",
   "language": "python",
   "name": "conda-root-py"
  },
  "language_info": {
   "codemirror_mode": {
    "name": "ipython",
    "version": 3
   },
   "file_extension": ".py",
   "mimetype": "text/x-python",
   "name": "python",
   "nbconvert_exporter": "python",
   "pygments_lexer": "ipython3",
   "version": "3.5.3"
  }
 },
 "nbformat": 4,
 "nbformat_minor": 2
}
